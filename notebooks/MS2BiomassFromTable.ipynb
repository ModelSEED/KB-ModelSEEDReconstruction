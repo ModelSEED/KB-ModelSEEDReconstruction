{
 "cells": [
  {
   "cell_type": "code",
   "execution_count": 1,
   "metadata": {},
   "outputs": [
    {
     "name": "stdout",
     "output_type": "stream",
     "text": [
      "python version 3.9.13\n",
      "cobrakbase 0.3.1\n"
     ]
    }
   ],
   "source": [
    "import platform\n",
    "print(\"python version \" + platform.python_version())\n",
    "import sys\n",
    "import json\n",
    "import os\n",
    "import pandas as pd\n",
    "from os.path import exists\n",
    "from pathlib import Path\n",
    "import logging\n",
    "#Correct these paths based on your system setup\n",
    "COBRAKBase_path = \"/Users/chenry/code/cobrakbase\"\n",
    "BaseModule_path = \"/Users/chenry/code/KBBaseModules\"\n",
    "ModelSEEDpy_path = \"/Users/chenry/code/ModelSEEDpy\"\n",
    "ModelSEEDReconstruction_path = \"/Users/chenry/code/KB-ModelSEEDReconstruction\"\n",
    "sys.path.append(COBRAKBase_path)\n",
    "sys.path.append(BaseModule_path)\n",
    "sys.path.append(ModelSEEDpy_path)\n",
    "sys.path.append(ModelSEEDReconstruction_path+\"/lib\")\n",
    "from modelseedpy import MSPackageManager, MSModelUtil\n",
    "from modelseedpy.core.mstemplate import MSTemplateBuilder\n",
    "from ModelSEEDReconstruction.modelseedrecon import ModelSEEDRecon\n",
    "from installed_clients.WorkspaceClient import Workspace\n",
    "#You need to get a KBase dev token or pull a token from the narrative and put in ~/.kbase/token file\n",
    "token = None\n",
    "if Path(str(Path.home()) + '/.kbase/token').exists():\n",
    "    with open(str(Path.home()) + '/.kbase/token', 'r') as fh:\n",
    "        token = fh.read().strip()\n",
    "#workspace_url = \"https://appdev.kbase.us/services/ws\"#For appdev\n",
    "workspace_url = \"https://kbase.us/services/ws\"#For prod"
   ]
  },
  {
   "cell_type": "code",
   "execution_count": 2,
   "metadata": {},
   "outputs": [],
   "source": [
    "wsclient = Workspace(workspace_url, token=token)\n",
    "msrecon = ModelSEEDRecon({\"ATP_media_workspace\":\"68393\",\"version\":\"0.0.1\"},ModelSEEDReconstruction_path,ModelSEEDReconstruction_path+\"/notebooks/\",token,{\"Workspace\":wsclient},None)"
   ]
  },
  {
   "cell_type": "code",
   "execution_count": 3,
   "metadata": {},
   "outputs": [
    {
     "name": "stderr",
     "output_type": "stream",
     "text": [
      "WARNING:cobrakbase.kbaseapi_cache:created folder(s) [/Users/chenry/.kbase/cache/dev/12998]\n"
     ]
    }
   ],
   "source": [
    "#Pull the template\n",
    "template = msrecon.kbase_api.get_from_ws(\"GramNegModelTemplateV4\",\"NewKBaseModelTemplates\")\n",
    "#Pull the biomass out of the template\n",
    "biomass = template.biomasses.get_by_id(\"bio1\")\n",
    "#Showing creation of biomass template from table\n",
    "template.overwrite_biomass_from_table(\"biomasses.tsv\",\"bio1\",biomass.name,biomass.type,biomass.dna,biomass.rna,biomass.protein,biomass.lipid,biomass.cellwall,biomass.cofactor,biomass.energy,biomass.other)\n",
    "newbiomass = template.biomasses.get_by_id(\"bio1\")"
   ]
  },
  {
   "cell_type": "code",
   "execution_count": null,
   "metadata": {},
   "outputs": [],
   "source": []
  }
 ],
 "metadata": {
  "kernelspec": {
   "display_name": "Python 3 (ipykernel)",
   "language": "python",
   "name": "python3"
  },
  "language_info": {
   "codemirror_mode": {
    "name": "ipython",
    "version": 3
   },
   "file_extension": ".py",
   "mimetype": "text/x-python",
   "name": "python",
   "nbconvert_exporter": "python",
   "pygments_lexer": "ipython3",
   "version": "3.9.13"
  }
 },
 "nbformat": 4,
 "nbformat_minor": 4
}
